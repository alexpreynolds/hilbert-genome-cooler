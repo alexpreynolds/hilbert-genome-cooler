{
 "cells": [
  {
   "cell_type": "markdown",
   "id": "91c25316-ac5b-46bb-9039-0aa4c2f163bd",
   "metadata": {},
   "source": [
    "# hilbert-genome-cooler"
   ]
  },
  {
   "cell_type": "markdown",
   "id": "bb547299-672b-4e52-929b-aeac0d43dff8",
   "metadata": {},
   "source": [
    "#### Overview\n",
    "\n",
    "We use the Python `numpy-hilbert-curve` (`hilbert`) and `cooler` packages to create a multiscale `mcool` file of Hilbert curve data. \n",
    "\n",
    "Each scale of the `mcool` file is derived from integer-keyed categorical data (e.g., chromatin states or DHS components) at each Hilbert curve order, and put into its own `cool` file.\n",
    "\n",
    "The set of `cool` files — each at its own \"resolution\" to represent Hilbert curve order — can then be loaded into a final `mcool` file."
   ]
  },
  {
   "cell_type": "markdown",
   "id": "7b44afe3-5768-4f76-ba35-3d61d731d8a2",
   "metadata": {},
   "source": [
    "#### Notes\n",
    "\n",
    "1. This does not yet use the custom Hilbert curve aggregation function defined in the Observable notebook. Instead, we are generating random integers as placeholder data.\n",
    "\n",
    "2. This does not yet look at using HiGlass to render this `mcool` file; customization of the 2D track type will be required for presenting categorical data, similar to what was required for using HiGlass to render chromatin state or DHS component \"tornado\" multivec tracks. "
   ]
  },
  {
   "cell_type": "code",
   "execution_count": 27,
   "id": "8dc59145-2bcd-4a57-a64a-b45cf42b4777",
   "metadata": {},
   "outputs": [
    {
     "name": "stdout",
     "output_type": "stream",
     "text": [
      "Requirement already satisfied: numpy-hilbert-curve in /Users/areynolds/miniconda3/envs/cooler/lib/python3.10/site-packages (1.0.1)\n",
      "Requirement already satisfied: cooler in /Users/areynolds/miniconda3/envs/cooler/lib/python3.10/site-packages (0.8.11)\n",
      "Requirement already satisfied: six in /Users/areynolds/miniconda3/envs/cooler/lib/python3.10/site-packages (from cooler) (1.16.0)\n",
      "Requirement already satisfied: click>=7 in /Users/areynolds/miniconda3/envs/cooler/lib/python3.10/site-packages (from cooler) (8.1.3)\n",
      "Requirement already satisfied: pyfaidx in /Users/areynolds/miniconda3/envs/cooler/lib/python3.10/site-packages (from cooler) (0.7.1)\n",
      "Requirement already satisfied: pyyaml in /Users/areynolds/miniconda3/envs/cooler/lib/python3.10/site-packages (from cooler) (6.0)\n",
      "Requirement already satisfied: simplejson in /Users/areynolds/miniconda3/envs/cooler/lib/python3.10/site-packages (from cooler) (3.18.0)\n",
      "Requirement already satisfied: pandas in /Users/areynolds/miniconda3/envs/cooler/lib/python3.10/site-packages (from cooler) (1.5.2)\n",
      "Requirement already satisfied: pypairix in /Users/areynolds/miniconda3/envs/cooler/lib/python3.10/site-packages (from cooler) (0.3.7)\n",
      "Requirement already satisfied: cytoolz<0.11 in /Users/areynolds/miniconda3/envs/cooler/lib/python3.10/site-packages (from cooler) (0.10.1)\n",
      "Requirement already satisfied: numpy>=1.9 in /Users/areynolds/miniconda3/envs/cooler/lib/python3.10/site-packages (from cooler) (1.23.5)\n",
      "Requirement already satisfied: asciitree in /Users/areynolds/miniconda3/envs/cooler/lib/python3.10/site-packages (from cooler) (0.3.3)\n",
      "Requirement already satisfied: h5py>=2.5 in /Users/areynolds/miniconda3/envs/cooler/lib/python3.10/site-packages (from cooler) (3.7.0)\n",
      "Requirement already satisfied: multiprocess in /Users/areynolds/miniconda3/envs/cooler/lib/python3.10/site-packages (from cooler) (0.70.14)\n",
      "Requirement already satisfied: scipy>=0.16 in /Users/areynolds/miniconda3/envs/cooler/lib/python3.10/site-packages (from cooler) (1.9.3)\n",
      "Requirement already satisfied: toolz>=0.8.0 in /Users/areynolds/miniconda3/envs/cooler/lib/python3.10/site-packages (from cytoolz<0.11->cooler) (0.12.0)\n",
      "Requirement already satisfied: dill>=0.3.6 in /Users/areynolds/miniconda3/envs/cooler/lib/python3.10/site-packages (from multiprocess->cooler) (0.3.6)\n",
      "Requirement already satisfied: python-dateutil>=2.8.1 in /Users/areynolds/miniconda3/envs/cooler/lib/python3.10/site-packages (from pandas->cooler) (2.8.2)\n",
      "Requirement already satisfied: pytz>=2020.1 in /Users/areynolds/miniconda3/envs/cooler/lib/python3.10/site-packages (from pandas->cooler) (2022.6)\n",
      "Requirement already satisfied: setuptools>=0.7 in /Users/areynolds/miniconda3/envs/cooler/lib/python3.10/site-packages (from pyfaidx->cooler) (65.5.1)\n",
      "Requirement already satisfied: matplotlib in /Users/areynolds/miniconda3/envs/cooler/lib/python3.10/site-packages (3.6.2)\n",
      "Requirement already satisfied: numpy>=1.19 in /Users/areynolds/miniconda3/envs/cooler/lib/python3.10/site-packages (from matplotlib) (1.23.5)\n",
      "Requirement already satisfied: pyparsing>=2.2.1 in /Users/areynolds/miniconda3/envs/cooler/lib/python3.10/site-packages (from matplotlib) (3.0.9)\n",
      "Requirement already satisfied: cycler>=0.10 in /Users/areynolds/miniconda3/envs/cooler/lib/python3.10/site-packages (from matplotlib) (0.11.0)\n",
      "Requirement already satisfied: packaging>=20.0 in /Users/areynolds/miniconda3/envs/cooler/lib/python3.10/site-packages (from matplotlib) (21.3)\n",
      "Requirement already satisfied: contourpy>=1.0.1 in /Users/areynolds/miniconda3/envs/cooler/lib/python3.10/site-packages (from matplotlib) (1.0.6)\n",
      "Requirement already satisfied: pillow>=6.2.0 in /Users/areynolds/miniconda3/envs/cooler/lib/python3.10/site-packages (from matplotlib) (9.3.0)\n",
      "Requirement already satisfied: kiwisolver>=1.0.1 in /Users/areynolds/miniconda3/envs/cooler/lib/python3.10/site-packages (from matplotlib) (1.4.4)\n",
      "Requirement already satisfied: python-dateutil>=2.7 in /Users/areynolds/miniconda3/envs/cooler/lib/python3.10/site-packages (from matplotlib) (2.8.2)\n",
      "Requirement already satisfied: fonttools>=4.22.0 in /Users/areynolds/miniconda3/envs/cooler/lib/python3.10/site-packages (from matplotlib) (4.38.0)\n",
      "Requirement already satisfied: six>=1.5 in /Users/areynolds/miniconda3/envs/cooler/lib/python3.10/site-packages (from python-dateutil>=2.7->matplotlib) (1.16.0)\n",
      "Requirement already satisfied: h5py in /Users/areynolds/miniconda3/envs/cooler/lib/python3.10/site-packages (3.7.0)\n",
      "Requirement already satisfied: numpy>=1.14.5 in /Users/areynolds/miniconda3/envs/cooler/lib/python3.10/site-packages (from h5py) (1.23.5)\n"
     ]
    }
   ],
   "source": [
    "%%bash\n",
    "\n",
    "pip install numpy-hilbert-curve\n",
    "pip install cooler\n",
    "pip install matplotlib\n",
    "pip install h5py"
   ]
  },
  {
   "cell_type": "code",
   "execution_count": 28,
   "id": "5abe5100-1ed1-4eb7-aed4-76928147844f",
   "metadata": {},
   "outputs": [],
   "source": [
    "import sys\n",
    "import os\n",
    "import gzip\n",
    "import subprocess\n",
    "import numpy as np\n",
    "import hilbert\n",
    "import matplotlib.pyplot as plt\n",
    "import cooler\n",
    "import h5py"
   ]
  },
  {
   "cell_type": "code",
   "execution_count": 3,
   "id": "fd7801f4-bc90-4794-a382-3f0d3bb1f795",
   "metadata": {},
   "outputs": [],
   "source": [
    "data_dir = 'hilbert_genome_cooler_data'\n",
    "if not os.path.exists(data_dir): \n",
    "    os.makedirs(data_dir)"
   ]
  },
  {
   "cell_type": "code",
   "execution_count": 4,
   "id": "14dc74a5-195e-4787-ae5d-2e5b853e616a",
   "metadata": {},
   "outputs": [],
   "source": [
    "# The following directive activates inline plotting\n",
    "%matplotlib inline"
   ]
  },
  {
   "cell_type": "code",
   "execution_count": 5,
   "id": "77de3538-15b2-41f0-b03b-683a48e71410",
   "metadata": {},
   "outputs": [],
   "source": [
    "curve_order = { 'min': 2, 'max': 10 }\n",
    "assert(curve_order['min'] > 1)\n",
    "curve_orders = list(range(curve_order['min'], curve_order['max'] + 1))\n",
    "curve_orders = list(reversed(curve_orders))"
   ]
  },
  {
   "cell_type": "markdown",
   "id": "fa8d7b50-c70e-4b29-8b3b-31cc3bde2550",
   "metadata": {},
   "source": [
    "Create a pseudo-chromsizes file for the maximum curve order:"
   ]
  },
  {
   "cell_type": "code",
   "execution_count": 6,
   "id": "d512441f-5ada-4988-aaad-92dfa0840735",
   "metadata": {},
   "outputs": [],
   "source": [
    "chrom_name = 'pseudo'"
   ]
  },
  {
   "cell_type": "markdown",
   "id": "54423e6e-be8b-4283-ae19-bcba31d618eb",
   "metadata": {},
   "source": [
    "Specify the bin resolution, ideally as a multiple of the highest curve order:"
   ]
  },
  {
   "cell_type": "code",
   "execution_count": 46,
   "id": "c56e1293-3580-4e57-b0bc-12a72ac370e0",
   "metadata": {},
   "outputs": [
    {
     "data": {
      "text/plain": [
       "9216"
      ]
     },
     "execution_count": 46,
     "metadata": {},
     "output_type": "execute_result"
    }
   ],
   "source": [
    "bin_resolution = 2**curve_order['max'] * len(curve_orders)\n",
    "bin_resolution"
   ]
  },
  {
   "cell_type": "code",
   "execution_count": 8,
   "id": "34c0c74e-4042-4b91-a533-9cf9ecd1753a",
   "metadata": {},
   "outputs": [],
   "source": [
    "chromsizes_fn = os.path.join(data_dir, 'chromsizes.txt')\n",
    "with open(chromsizes_fn, 'w') as ofh:\n",
    "    chrom_size = resolution\n",
    "    ol = '{}\\t{}\\n'.format(chrom_name, chrom_size)\n",
    "    ofh.write(ol)"
   ]
  },
  {
   "cell_type": "markdown",
   "id": "9c47e204-366a-455f-90ae-9a4af2290387",
   "metadata": {},
   "source": [
    "Create a vector of random chromatin states for each curve order, and write data to BG2 format (chrom1, start1, end1, chrom2, start2, end2, score).\n",
    "\n",
    "Eventually, chromatin states (or other categorical data) will be derived from applying Observable notebook code that aggregates signal over the whole genome.\n",
    "\n",
    "The bin size at each curve order is the resolution divided by the order. This determines the ultimate size of a Hilbert curve cell at each coordinate pair. \n",
    "\n",
    "Coordinate pairs — BG2 pairs — need to based upon Hilbert curve ordering. We use the `hilbert` package to map locations into an index-able order, so that random access to regions of the pseudo-chromosome can be recovered via HiGlass queries later on."
   ]
  },
  {
   "cell_type": "code",
   "execution_count": 9,
   "id": "2b9ccd18-7e8c-4bfb-9914-bb1f98c13d5e",
   "metadata": {},
   "outputs": [],
   "source": [
    "signal_min = 1\n",
    "signal_max = 255"
   ]
  },
  {
   "cell_type": "code",
   "execution_count": 44,
   "id": "82b08290-679d-4a12-8b6f-0c44aec28bee",
   "metadata": {},
   "outputs": [],
   "source": [
    "def bin_size_fn(order):\n",
    "    return bin_resolution // 2**order"
   ]
  },
  {
   "cell_type": "code",
   "execution_count": 11,
   "id": "adcf8c58-5537-4151-9397-0c07b74bc53e",
   "metadata": {},
   "outputs": [],
   "source": [
    "for co_idx, co_val in enumerate(curve_orders):\n",
    "    output_signal_fn = os.path.join(data_dir, 'bg2.signal.{}.txt.gz'.format(co_val))\n",
    "    with gzip.open(output_signal_fn, 'wb') as ofh:\n",
    "        signal_items = 4**co_val\n",
    "        v = np.random.randint(signal_min, high=signal_max + 1, size=signal_items)\n",
    "        # print('{}, {}'.format(co, v))\n",
    "        locs = hilbert.decode(np.arange(signal_items), 2, co_val)\n",
    "        # print(locs)\n",
    "        # print(locs[np.lexsort((locs[:,1], locs[:,0]))])\n",
    "        reordered_idxs = np.lexsort((locs[:,1], locs[:,0]))\n",
    "        # print(reordered_idxs)\n",
    "        # print(locs[reordered_idxs])\n",
    "        # print('{}, {}'.format(co, v[reordered_idxs]))\n",
    "        reordered_signal = v[reordered_idxs]\n",
    "        bin_size = bin_size_fn(co_val)\n",
    "        for loc_idx, loc_val in enumerate(locs[reordered_idxs]):\n",
    "            chrom1 = chrom_name\n",
    "            start1 = loc_val[0] * bin_size\n",
    "            end1 = (loc_val[0] + 1) * bin_size\n",
    "            chrom2 = chrom_name\n",
    "            start2 = loc_val[1] * bin_size\n",
    "            end2 = (loc_val[1] + 1) * bin_size\n",
    "            score = reordered_signal[loc_idx]\n",
    "            ol = '{}\\t{:d}\\t{:d}\\t{}\\t{:d}\\t{:d}\\t{:d}\\n'.format(chrom1, int(start1), int(end1), chrom2, int(start2), int(end2), int(score))\n",
    "            # print(ol)\n",
    "            ofh.write(ol.encode('utf-8'))"
   ]
  },
  {
   "cell_type": "markdown",
   "id": "cc3d4fad-f68f-4234-adb8-4276e1567365",
   "metadata": {},
   "source": [
    "Next, we load the per-curve-order BG2 data into its own `cool` file. We use the `--no-symmetric-upper` option to make a square matrix: "
   ]
  },
  {
   "cell_type": "code",
   "execution_count": 12,
   "id": "0d48cea9-3eb0-4914-8553-a66db1014c48",
   "metadata": {},
   "outputs": [],
   "source": [
    "for co_idx, co_val in enumerate(curve_orders):\n",
    "    input_signal_fn = os.path.join(data_dir, 'bg2.signal.{}.txt.gz'.format(co_val))\n",
    "    if not os.path.exists(input_signal_fn):\n",
    "        raise FileNotFoundError(\"Missing BG2 pair data\")\n",
    "    output_cool_fn =  os.path.join(data_dir, 'bg2.signal.{}.cool'.format(co_val))\n",
    "    bin_size = bin_size_fn(co_val)\n",
    "    cooler_load_cmd = 'cooler load -f bg2 --no-symmetric-upper {}:{:d} {} {}'.format(chromsizes_fn, bin_size, input_signal_fn, output_cool_fn)\n",
    "    subprocess.run(cooler_load_cmd, shell=True, check=True, stderr=subprocess.DEVNULL)"
   ]
  },
  {
   "cell_type": "markdown",
   "id": "d5bcfc6d-5a69-4ee3-9858-4685032bb62a",
   "metadata": {},
   "source": [
    "We inspect one of the `cool` files:"
   ]
  },
  {
   "cell_type": "code",
   "execution_count": 23,
   "id": "32ba15c2-3558-4afa-9c25-d5d09431aff9",
   "metadata": {},
   "outputs": [
    {
     "data": {
      "text/plain": [
       "'hilbert_genome_cooler_data/bg2.signal.7.cool'"
      ]
     },
     "execution_count": 23,
     "metadata": {},
     "output_type": "execute_result"
    }
   ],
   "source": [
    "test_cool_co = 7\n",
    "test_cool_fn = os.path.join(data_dir, 'bg2.signal.{}.cool'.format(test_cool_co))\n",
    "if not os.path.exists(test_cool_fn):\n",
    "    raise FileNotFoundError(\"Missing test Cooler file data\")\n",
    "test_cool_fn"
   ]
  },
  {
   "cell_type": "code",
   "execution_count": 24,
   "id": "45aa85ac-cef1-459e-81fa-d5dea05ed651",
   "metadata": {},
   "outputs": [
    {
     "data": {
      "text/plain": [
       "{'bin-size': 72,\n",
       " 'bin-type': 'fixed',\n",
       " 'creation-date': '2022-12-02T11:53:24.886324',\n",
       " 'format': 'HDF5::Cooler',\n",
       " 'format-url': 'https://github.com/open2c/cooler',\n",
       " 'format-version': 3,\n",
       " 'generated-by': 'cooler-0.8.11',\n",
       " 'genome-assembly': 'unknown',\n",
       " 'metadata': {},\n",
       " 'nbins': 128,\n",
       " 'nchroms': 1,\n",
       " 'nnz': 16384,\n",
       " 'storage-mode': 'square',\n",
       " 'sum': 2098877}"
      ]
     },
     "execution_count": 24,
     "metadata": {},
     "output_type": "execute_result"
    }
   ],
   "source": [
    "test_cool = cooler.Cooler(test_cool_fn)\n",
    "test_cool.info"
   ]
  },
  {
   "cell_type": "markdown",
   "id": "abf4bdf1-355e-4bcd-add9-d2154719f8cb",
   "metadata": {},
   "source": [
    "Next, we can visualize the `cool` file:"
   ]
  },
  {
   "cell_type": "code",
   "execution_count": null,
   "id": "df0b3231-3477-4b59-a9ef-80ab94218d83",
   "metadata": {},
   "outputs": [],
   "source": [
    "test_cool_arr = test_cool.matrix(balance=False)[:, :]\n",
    "fig = plt.figure(figsize=(10, 10))\n",
    "ax = fig.add_subplot(111)\n",
    "im = ax.matshow(test_cool_arr, cmap='viridis')\n",
    "fig.colorbar(im)"
   ]
  },
  {
   "cell_type": "markdown",
   "id": "91ec0ba3-4584-4ee5-8966-d0381c5596a3",
   "metadata": {},
   "source": [
    "The final step is to compile the per-curve-order `cool` files into one multiscale `mcool` file:"
   ]
  },
  {
   "cell_type": "code",
   "execution_count": 29,
   "id": "a37aaf28-7d09-4fe6-aed8-dd291c659c5b",
   "metadata": {},
   "outputs": [],
   "source": [
    "# output_mcool_fn = os.path.join(data_dir, 'bg2.signal.mcool')\n",
    "# for co_idx, co_val in enumerate(curve_orders):\n",
    "#     input_bg2_gz_fn =  os.path.join(data_dir, 'bg2.signal.{}.txt.gz'.format(co_val))\n",
    "#     input_bg2_txt_fn =  os.path.join(data_dir, 'bg2.signal.{}.txt'.format(co_val))\n",
    "#     with open(input_bg2_gz_fn, 'rb') as ifh, open(input_bg2_txt_fn, 'w', encoding='utf8') as ofh:\n",
    "#         input_bg2_txt_str = gzip.decompress(ifh.read()).decode('utf-8')\n",
    "#         ofh.write(input_bg2_txt_str)\n",
    "#     bin_size = bin_size_fn(co_val)\n",
    "#     cooler_load_cmd = 'cooler load -f bg2 --no-symmetric-upper {}:{:d} {} {}::resolutions/{:d}'.format(chromsizes_fn, bin_size, input_bg2_txt_fn, output_mcool_fn, bin_size)\n",
    "#     print(cooler_load_cmd)\n",
    "#     subprocess.run(cooler_load_cmd, shell=True, check=True, stderr=subprocess.DEVNULL)"
   ]
  },
  {
   "cell_type": "markdown",
   "id": "4a8fa86f-cba1-416e-8fa8-a8f998dc557e",
   "metadata": {},
   "source": [
    "Filed [issue #296](https://github.com/open2c/cooler/issues/296) as running `cooler load` overwrites `mcool` file at each resolution.\n",
    "\n",
    "Instead, we can use `h5py` routines and the [`mcool` schema](https://cooler.readthedocs.io/en/latest/schema.html#multi-resolution) to reconstitute a container:"
   ]
  },
  {
   "cell_type": "code",
   "execution_count": 74,
   "id": "46adc652-305c-4565-98b4-bd9af24edc33",
   "metadata": {},
   "outputs": [],
   "source": [
    "output_mcool_fn = os.path.join(data_dir, 'bg2.signal.mcool')\n",
    "with h5py.File(output_mcool_fn, 'w') as output_mcool_h5:\n",
    "    output_mcool_h5.attrs['format'] = 'HDF5::MCOOL'\n",
    "    output_mcool_h5.attrs['format-version'] = 2\n",
    "    output_mcool_h5.attrs['bin-type'] = 'fixed'\n",
    "    all_resolutions = output_mcool_h5.create_group('resolutions')\n",
    "    for co_idx, co_val in enumerate(curve_orders):\n",
    "        bin_size = bin_size_fn(co_val)\n",
    "        per_resolution = all_resolutions.create_group(str(bin_size))\n",
    "        input_bg2_cool_fn =  os.path.join(data_dir, 'bg2.signal.{}.cool'.format(co_val))\n",
    "        if not os.path.exists(input_bg2_cool_fn):\n",
    "            raise FileNotFoundError(\"Cannot find per-resolution BG2 cooler file\")\n",
    "        with h5py.File(input_bg2_cool_fn, 'r') as input_bg2_cool_h5:\n",
    "            per_resolution.attrs['bin-size'] = input_bg2_cool_h5.attrs['bin-size']\n",
    "            per_resolution.attrs['bin-type'] = input_bg2_cool_h5.attrs['bin-type']\n",
    "            per_resolution.attrs['creation-date'] = input_bg2_cool_h5.attrs['creation-date']\n",
    "            per_resolution.attrs['format'] = input_bg2_cool_h5.attrs['format']\n",
    "            per_resolution.attrs['format-url'] = input_bg2_cool_h5.attrs['format-url']\n",
    "            per_resolution.attrs['format-version'] = input_bg2_cool_h5.attrs['format-version']\n",
    "            per_resolution.attrs['generated-by'] = input_bg2_cool_h5.attrs['generated-by']\n",
    "            per_resolution.attrs['genome-assembly'] = input_bg2_cool_h5.attrs['genome-assembly']\n",
    "            per_resolution.attrs['metadata'] = input_bg2_cool_h5.attrs['metadata']\n",
    "            per_resolution.attrs['nbins'] = input_bg2_cool_h5.attrs['nbins']\n",
    "            per_resolution.attrs['nchroms'] = input_bg2_cool_h5.attrs['nchroms']\n",
    "            per_resolution.attrs['nnz'] = input_bg2_cool_h5.attrs['nnz']\n",
    "            per_resolution.attrs['storage-mode'] = input_bg2_cool_h5.attrs['storage-mode']\n",
    "            per_resolution.attrs['sum'] = input_bg2_cool_h5.attrs['sum']\n",
    "            for input_bg2_cool_h5_group in input_bg2_cool_h5.keys():\n",
    "                input_bg2_cool_h5[input_bg2_cool_h5_group].copy(input_bg2_cool_h5[input_bg2_cool_h5_group], per_resolution)"
   ]
  },
  {
   "cell_type": "markdown",
   "id": "05f3a19a-ae17-41e6-a9fd-8faf73534e2b",
   "metadata": {},
   "source": [
    "We investigate its structure to confirm details:"
   ]
  },
  {
   "cell_type": "code",
   "execution_count": 76,
   "id": "2c425c75-2c71-42fe-98ce-11d51674b647",
   "metadata": {},
   "outputs": [
    {
     "name": "stdout",
     "output_type": "stream",
     "text": [
      "1152                     Group\n",
      "144                      Group\n",
      "18                       Group\n",
      "2304                     Group\n",
      "288                      Group\n",
      "36                       Group\n",
      "576                      Group\n",
      "72                       Group\n",
      "9                        Group\n"
     ]
    }
   ],
   "source": [
    "%%bash\n",
    "\n",
    "h5ls hilbert_genome_cooler_data/bg2.signal.mcool/resolutions"
   ]
  },
  {
   "cell_type": "code",
   "execution_count": null,
   "id": "dddb70a4-8140-44a1-ad2c-98743621952e",
   "metadata": {},
   "outputs": [],
   "source": []
  }
 ],
 "metadata": {
  "kernelspec": {
   "display_name": "Python 3 (ipykernel)",
   "language": "python",
   "name": "python3"
  },
  "language_info": {
   "codemirror_mode": {
    "name": "ipython",
    "version": 3
   },
   "file_extension": ".py",
   "mimetype": "text/x-python",
   "name": "python",
   "nbconvert_exporter": "python",
   "pygments_lexer": "ipython3",
   "version": "3.10.8"
  }
 },
 "nbformat": 4,
 "nbformat_minor": 5
}
