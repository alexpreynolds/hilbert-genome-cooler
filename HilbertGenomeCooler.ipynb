{
 "cells": [
  {
   "cell_type": "markdown",
   "id": "91c25316-ac5b-46bb-9039-0aa4c2f163bd",
   "metadata": {
    "tags": []
   },
   "source": [
    "# hilbert-genome-cooler"
   ]
  },
  {
   "cell_type": "markdown",
   "id": "bb547299-672b-4e52-929b-aeac0d43dff8",
   "metadata": {},
   "source": [
    "#### Overview\n",
    "\n",
    "We create a Python package called `hilbertgenome` to generate a multiscale `mcool` file of Hilbert curve data. \n",
    "\n",
    "This package in turn uses the Python `numpy-hilbert-curve` (`hilbert`) and `cooler` packages.\n",
    "\n",
    "Each scale of the `mcool` file is derived from integer-keyed categorical data (e.g., chromatin states or DHS components) at each Hilbert curve order, and put into its own `cool` file.\n",
    "\n",
    "The set of `cool` files — each at its own \"resolution\" to represent Hilbert curve order — can then be loaded into a final `mcool` file.\n",
    "\n",
    "#### Notes\n",
    "\n",
    "1. This does not yet use the custom Hilbert curve aggregation function defined in the Observable notebook. Instead, we are generating a range of integers as placeholder data. The colormap equivalent of this data, when rendered (see below), uses coloring to demonstrate that the Hilbert curve data are ordered correctly.\n",
    "\n",
    "2. This does not yet look at using HiGlass to render this `mcool` file; customization of the 2D track type will be required for presenting categorical data, similar to what was required for using HiGlass to render chromatin state or DHS component \"tornado\" multivec tracks. "
   ]
  },
  {
   "cell_type": "code",
   "execution_count": 1,
   "id": "14dc74a5-195e-4787-ae5d-2e5b853e616a",
   "metadata": {},
   "outputs": [],
   "source": [
    "# The following directive activates inline plotting\n",
    "%matplotlib inline"
   ]
  },
  {
   "cell_type": "code",
   "execution_count": 2,
   "id": "8dc59145-2bcd-4a57-a64a-b45cf42b4777",
   "metadata": {},
   "outputs": [
    {
     "name": "stdout",
     "output_type": "stream",
     "text": [
      "Requirement already satisfied: h5py in /Users/areynolds/miniconda3/lib/python3.8/site-packages (3.3.0)\n",
      "Requirement already satisfied: numpy>=1.17.5 in /Users/areynolds/miniconda3/lib/python3.8/site-packages (from h5py) (1.22.4)\n",
      "Requirement already satisfied: cooler in /Users/areynolds/miniconda3/lib/python3.8/site-packages (0.8.11)\n",
      "Requirement already satisfied: multiprocess in /Users/areynolds/miniconda3/lib/python3.8/site-packages (from cooler) (0.70.14)\n",
      "Requirement already satisfied: pyfaidx in /Users/areynolds/miniconda3/lib/python3.8/site-packages (from cooler) (0.7.1)\n",
      "Requirement already satisfied: click>=7 in /Users/areynolds/miniconda3/lib/python3.8/site-packages (from cooler) (8.1.3)\n",
      "Requirement already satisfied: pypairix in /Users/areynolds/miniconda3/lib/python3.8/site-packages (from cooler) (0.3.7)\n",
      "Requirement already satisfied: h5py>=2.5 in /Users/areynolds/miniconda3/lib/python3.8/site-packages (from cooler) (3.3.0)\n",
      "Requirement already satisfied: scipy>=0.16 in /Users/areynolds/miniconda3/lib/python3.8/site-packages (from cooler) (1.6.2)\n",
      "Requirement already satisfied: six in /Users/areynolds/miniconda3/lib/python3.8/site-packages (from cooler) (1.16.0)\n",
      "Requirement already satisfied: pyyaml in /Users/areynolds/miniconda3/lib/python3.8/site-packages (from cooler) (6.0)\n",
      "Requirement already satisfied: pandas in /Users/areynolds/miniconda3/lib/python3.8/site-packages (from cooler) (1.4.3)\n",
      "Requirement already satisfied: asciitree in /Users/areynolds/miniconda3/lib/python3.8/site-packages (from cooler) (0.3.3)\n",
      "Requirement already satisfied: simplejson in /Users/areynolds/miniconda3/lib/python3.8/site-packages (from cooler) (3.18.0)\n",
      "Requirement already satisfied: cytoolz<0.11 in /Users/areynolds/miniconda3/lib/python3.8/site-packages (from cooler) (0.10.1)\n",
      "Requirement already satisfied: numpy>=1.9 in /Users/areynolds/miniconda3/lib/python3.8/site-packages (from cooler) (1.22.4)\n",
      "Requirement already satisfied: toolz>=0.8.0 in /Users/areynolds/miniconda3/lib/python3.8/site-packages (from cytoolz<0.11->cooler) (0.12.0)\n",
      "Requirement already satisfied: dill>=0.3.6 in /Users/areynolds/miniconda3/lib/python3.8/site-packages (from multiprocess->cooler) (0.3.6)\n",
      "Requirement already satisfied: pytz>=2020.1 in /Users/areynolds/.local/lib/python3.8/site-packages (from pandas->cooler) (2021.1)\n",
      "Requirement already satisfied: python-dateutil>=2.8.1 in /Users/areynolds/miniconda3/lib/python3.8/site-packages (from pandas->cooler) (2.8.2)\n",
      "Requirement already satisfied: setuptools>=0.7 in /Users/areynolds/miniconda3/lib/python3.8/site-packages (from pyfaidx->cooler) (63.1.0)\n",
      "Requirement already satisfied: matplotlib in /Users/areynolds/miniconda3/lib/python3.8/site-packages (3.4.1)\n",
      "Requirement already satisfied: pillow>=6.2.0 in /Users/areynolds/miniconda3/lib/python3.8/site-packages (from matplotlib) (8.2.0)\n",
      "Requirement already satisfied: numpy>=1.16 in /Users/areynolds/miniconda3/lib/python3.8/site-packages (from matplotlib) (1.22.4)\n",
      "Requirement already satisfied: pyparsing>=2.2.1 in /Users/areynolds/miniconda3/lib/python3.8/site-packages (from matplotlib) (2.4.7)\n",
      "Requirement already satisfied: python-dateutil>=2.7 in /Users/areynolds/miniconda3/lib/python3.8/site-packages (from matplotlib) (2.8.2)\n",
      "Requirement already satisfied: cycler>=0.10 in /Users/areynolds/miniconda3/lib/python3.8/site-packages (from matplotlib) (0.10.0)\n",
      "Requirement already satisfied: kiwisolver>=1.0.1 in /Users/areynolds/miniconda3/lib/python3.8/site-packages (from matplotlib) (1.3.1)\n",
      "Requirement already satisfied: six in /Users/areynolds/miniconda3/lib/python3.8/site-packages (from cycler>=0.10->matplotlib) (1.16.0)\n",
      "Requirement already satisfied: numpy-hilbert-curve in /Users/areynolds/miniconda3/lib/python3.8/site-packages (1.0.1)\n"
     ]
    }
   ],
   "source": [
    "%%bash\n",
    "\n",
    "pip install h5py\n",
    "pip install cooler\n",
    "pip install matplotlib\n",
    "pip install numpy-hilbert-curve"
   ]
  },
  {
   "cell_type": "code",
   "execution_count": 3,
   "id": "5abe5100-1ed1-4eb7-aed4-76928147844f",
   "metadata": {},
   "outputs": [],
   "source": [
    "import os\n",
    "import hilbertgenome as hg"
   ]
  },
  {
   "cell_type": "code",
   "execution_count": 4,
   "id": "bc6b4f19-8497-4af8-a4ae-0132225f1986",
   "metadata": {},
   "outputs": [],
   "source": [
    "data_dir = 'hilbert_genome_cooler_data'\n",
    "if not os.path.exists(data_dir): \n",
    "    os.makedirs(data_dir)\n",
    "mcool_fn = os.path.join(data_dir, 'signal.mcool')"
   ]
  },
  {
   "cell_type": "code",
   "execution_count": 5,
   "id": "c73836f6-2487-4566-82ba-4b6d999cda0c",
   "metadata": {},
   "outputs": [
    {
     "name": "stderr",
     "output_type": "stream",
     "text": [
      "Note: Writing placeholder data; specify `signal_fn` argument for real data\n",
      "Note: Processing signal for curve order 8...\n",
      "Note: Processing signal for curve order 7...\n",
      "Note: Processing signal for curve order 6...\n",
      "Note: Processing signal for curve order 5...\n",
      "Note: Processing signal for curve order 4...\n",
      "Note: Creating mcool from cooler files...\n"
     ]
    }
   ],
   "source": [
    "hgo = hg.HilbertGenome(assembly=\"hg38\", \n",
    "                       signal_resolution=200, \n",
    "                       curve_order_min=4,\n",
    "                       curve_order_max=8,\n",
    "                       output_mcool_fn=mcool_fn)"
   ]
  },
  {
   "cell_type": "code",
   "execution_count": 6,
   "id": "7c65503c-4646-48ad-bae3-dbf4114b6df4",
   "metadata": {},
   "outputs": [
    {
     "data": {
      "text/plain": [
       "{'bin-size': 5,\n",
       " 'bin-type': 'fixed',\n",
       " 'creation-date': '2022-12-12T11:25:52.892705',\n",
       " 'format': 'HDF5::Cooler',\n",
       " 'format-url': 'https://github.com/open2c/cooler',\n",
       " 'format-version': 3,\n",
       " 'generated-by': 'cooler-0.8.11',\n",
       " 'genome-assembly': 'unknown',\n",
       " 'metadata': {},\n",
       " 'nbins': 256,\n",
       " 'nchroms': 1,\n",
       " 'nnz': 65536,\n",
       " 'storage-mode': 'square',\n",
       " 'sum': 8388480}"
      ]
     },
     "execution_count": 6,
     "metadata": {},
     "output_type": "execute_result"
    }
   ],
   "source": [
    "hgo.cooler_info_for_curve_order(8)"
   ]
  },
  {
   "cell_type": "code",
   "execution_count": 7,
   "id": "63199623-ea41-4941-8656-25b9fc5ab31e",
   "metadata": {},
   "outputs": [
    {
     "data": {
      "text/plain": [
       "<matplotlib.colorbar.Colorbar at 0x7fce30756880>"
      ]
     },
     "execution_count": 7,
     "metadata": {},
     "output_type": "execute_result"
    },
    {
     "data": {
      "image/png": "[encoded data removed]",
      "text/plain": [
       "<Figure size 864x864 with 2 Axes>"
      ]
     },
     "metadata": {
      "needs_background": "light"
     },
     "output_type": "display_data"
    }
   ],
   "source": [
    "hgo.cooler_plot_for_curve_order(8)"
   ]
  }
 ],
 "metadata": {
  "kernelspec": {
   "display_name": "Python 3 (ipykernel)",
   "language": "python",
   "name": "python3"
  },
  "language_info": {
   "codemirror_mode": {
    "name": "ipython",
    "version": 3
   },
   "file_extension": ".py",
   "mimetype": "text/x-python",
   "name": "python",
   "nbconvert_exporter": "python",
   "pygments_lexer": "ipython3",
   "version": "3.8.13"
  }
 },
 "nbformat": 4,
 "nbformat_minor": 5
}
