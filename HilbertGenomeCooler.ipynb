{
 "cells": [
  {
   "cell_type": "markdown",
   "id": "91c25316-ac5b-46bb-9039-0aa4c2f163bd",
   "metadata": {
    "tags": []
   },
   "source": [
    "# hilbert-genome-cooler"
   ]
  },
  {
   "cell_type": "markdown",
   "id": "bb547299-672b-4e52-929b-aeac0d43dff8",
   "metadata": {},
   "source": [
    "#### Overview\n",
    "\n",
    "We create a Python package called `hilbertgenome` to generate a multiscale `mcool` file of Hilbert curve data. \n",
    "\n",
    "This package in turn uses the Python `numpy-hilbert-curve` (`hilbert`) and `cooler` packages.\n",
    "\n",
    "Each scale of the `mcool` file is derived from **integer-keyed categorical data** (e.g., chromatin states or DHS components) at each Hilbert curve order, and put into its own `cool` file.\n",
    "\n",
    "The set of `cool` files — each at its own \"resolution\" to represent Hilbert curve order — can then be loaded into a final `mcool` file.\n",
    "\n",
    "#### Notes\n",
    "\n",
    "1. This does not yet use the custom Hilbert curve aggregation function defined in the Observable notebook. Instead, we are generating a range of integers as placeholder data. The colormap equivalent of this data, when rendered (see below), uses coloring to demonstrate that the Hilbert curve data are ordered correctly.\n",
    "\n",
    "2. This does not yet look at using HiGlass to render this `mcool` file; customization of the 2D track type will be required for presenting categorical data, similar to what was required for using HiGlass to render chromatin state or DHS component \"tornado\" multivec tracks. "
   ]
  },
  {
   "cell_type": "code",
   "execution_count": 1,
   "id": "14dc74a5-195e-4787-ae5d-2e5b853e616a",
   "metadata": {},
   "outputs": [],
   "source": [
    "# The following directive activates inline plotting\n",
    "%matplotlib inline"
   ]
  },
  {
   "cell_type": "code",
   "execution_count": 2,
   "id": "8dc59145-2bcd-4a57-a64a-b45cf42b4777",
   "metadata": {},
   "outputs": [
    {
     "name": "stdout",
     "output_type": "stream",
     "text": [
      "Requirement already satisfied: h5py in /Users/areynolds/miniconda3/lib/python3.8/site-packages (3.3.0)\n",
      "Requirement already satisfied: numpy>=1.17.5 in /Users/areynolds/miniconda3/lib/python3.8/site-packages (from h5py) (1.22.4)\n",
      "Requirement already satisfied: cooler in /Users/areynolds/miniconda3/lib/python3.8/site-packages (0.8.11)\n",
      "Requirement already satisfied: simplejson in /Users/areynolds/miniconda3/lib/python3.8/site-packages (from cooler) (3.18.0)\n",
      "Requirement already satisfied: h5py>=2.5 in /Users/areynolds/miniconda3/lib/python3.8/site-packages (from cooler) (3.3.0)\n",
      "Requirement already satisfied: numpy>=1.9 in /Users/areynolds/miniconda3/lib/python3.8/site-packages (from cooler) (1.22.4)\n",
      "Requirement already satisfied: six in /Users/areynolds/miniconda3/lib/python3.8/site-packages (from cooler) (1.16.0)\n",
      "Requirement already satisfied: asciitree in /Users/areynolds/miniconda3/lib/python3.8/site-packages (from cooler) (0.3.3)\n",
      "Requirement already satisfied: multiprocess in /Users/areynolds/miniconda3/lib/python3.8/site-packages (from cooler) (0.70.14)\n",
      "Requirement already satisfied: pyfaidx in /Users/areynolds/miniconda3/lib/python3.8/site-packages (from cooler) (0.7.1)\n",
      "Requirement already satisfied: cytoolz<0.11 in /Users/areynolds/miniconda3/lib/python3.8/site-packages (from cooler) (0.10.1)\n",
      "Requirement already satisfied: pyyaml in /Users/areynolds/miniconda3/lib/python3.8/site-packages (from cooler) (6.0)\n",
      "Requirement already satisfied: pandas in /Users/areynolds/miniconda3/lib/python3.8/site-packages (from cooler) (1.4.3)\n",
      "Requirement already satisfied: pypairix in /Users/areynolds/miniconda3/lib/python3.8/site-packages (from cooler) (0.3.7)\n",
      "Requirement already satisfied: click>=7 in /Users/areynolds/miniconda3/lib/python3.8/site-packages (from cooler) (8.1.3)\n",
      "Requirement already satisfied: scipy>=0.16 in /Users/areynolds/miniconda3/lib/python3.8/site-packages (from cooler) (1.6.2)\n",
      "Requirement already satisfied: toolz>=0.8.0 in /Users/areynolds/miniconda3/lib/python3.8/site-packages (from cytoolz<0.11->cooler) (0.12.0)\n",
      "Requirement already satisfied: dill>=0.3.6 in /Users/areynolds/miniconda3/lib/python3.8/site-packages (from multiprocess->cooler) (0.3.6)\n",
      "Requirement already satisfied: python-dateutil>=2.8.1 in /Users/areynolds/miniconda3/lib/python3.8/site-packages (from pandas->cooler) (2.8.2)\n",
      "Requirement already satisfied: pytz>=2020.1 in /Users/areynolds/.local/lib/python3.8/site-packages (from pandas->cooler) (2021.1)\n",
      "Requirement already satisfied: setuptools>=0.7 in /Users/areynolds/miniconda3/lib/python3.8/site-packages (from pyfaidx->cooler) (63.1.0)\n",
      "Requirement already satisfied: matplotlib in /Users/areynolds/miniconda3/lib/python3.8/site-packages (3.4.1)\n",
      "Requirement already satisfied: numpy>=1.16 in /Users/areynolds/miniconda3/lib/python3.8/site-packages (from matplotlib) (1.22.4)\n",
      "Requirement already satisfied: python-dateutil>=2.7 in /Users/areynolds/miniconda3/lib/python3.8/site-packages (from matplotlib) (2.8.2)\n",
      "Requirement already satisfied: kiwisolver>=1.0.1 in /Users/areynolds/miniconda3/lib/python3.8/site-packages (from matplotlib) (1.3.1)\n",
      "Requirement already satisfied: pyparsing>=2.2.1 in /Users/areynolds/miniconda3/lib/python3.8/site-packages (from matplotlib) (2.4.7)\n",
      "Requirement already satisfied: cycler>=0.10 in /Users/areynolds/miniconda3/lib/python3.8/site-packages (from matplotlib) (0.10.0)\n",
      "Requirement already satisfied: pillow>=6.2.0 in /Users/areynolds/miniconda3/lib/python3.8/site-packages (from matplotlib) (8.2.0)\n",
      "Requirement already satisfied: six in /Users/areynolds/miniconda3/lib/python3.8/site-packages (from cycler>=0.10->matplotlib) (1.16.0)\n",
      "Requirement already satisfied: numpy-hilbert-curve in /Users/areynolds/miniconda3/lib/python3.8/site-packages (1.0.1)\n"
     ]
    }
   ],
   "source": [
    "%%bash\n",
    "\n",
    "pip install h5py\n",
    "pip install cooler\n",
    "pip install matplotlib\n",
    "pip install numpy-hilbert-curve"
   ]
  },
  {
   "cell_type": "code",
   "execution_count": 3,
   "id": "5abe5100-1ed1-4eb7-aed4-76928147844f",
   "metadata": {},
   "outputs": [],
   "source": [
    "import io\n",
    "import os\n",
    "import requests\n",
    "import hilbertgenome as hg"
   ]
  },
  {
   "cell_type": "code",
   "execution_count": 4,
   "id": "bc6b4f19-8497-4af8-a4ae-0132225f1986",
   "metadata": {},
   "outputs": [],
   "source": [
    "data_dir = 'hilbert_genome_cooler_data'\n",
    "if not os.path.exists(data_dir): \n",
    "    os.makedirs(data_dir)\n",
    "mcool_fn = os.path.join(data_dir, 'signal.mcool')"
   ]
  },
  {
   "cell_type": "code",
   "execution_count": 5,
   "id": "fc3f0eb6-cbc7-4e7f-a2c5-040ec2070735",
   "metadata": {},
   "outputs": [],
   "source": [
    "#\n",
    "# ref. /net/seq/data/projects/Epilogos/multivec-for-browser-2022-redo/epilogos_tracks/single/human/Boix_et_al_833_sample/hg19/18/All_833_biosamples/S1/scores.txt.filledGap.versionSorted.txt.gz\n",
    "#\n",
    "signal_categories = 18\n",
    "signal_resolution = 200\n",
    "signal_remote_URI = 'https://resources.altius.org/~areynolds/public/Boix_et_al_833_sample.hg19.18.All_833_biosamples.S1.scores.txt.gz'\n",
    "signal_local_fn = os.path.join(data_dir, 'Boix_et_al_833_sample.hg19.18.All_833_biosamples.S1.scores.txt.gz')\n",
    "if not os.path.exists(signal_local_fn):\n",
    "    try:\n",
    "        r = requests.get(signal_remote_URI)\n",
    "        with open(signal_local_fn, \"wb\") as ofh:\n",
    "            b = io.BytesIO(r.content)\n",
    "            ofh.write(b.getbuffer())\n",
    "    except requests.exceptions.RequestException as e:\n",
    "        raise SystemExit(e)"
   ]
  },
  {
   "cell_type": "code",
   "execution_count": 6,
   "id": "c73836f6-2487-4566-82ba-4b6d999cda0c",
   "metadata": {},
   "outputs": [
    {
     "name": "stderr",
     "output_type": "stream",
     "text": [
      "Note: Custom curve order maximum (8) is less than optimum calculated maximum (12)\n"
     ]
    },
    {
     "name": "stdout",
     "output_type": "stream",
     "text": [
      "{8: 3200, 7: 6400, 6: 12800, 5: 25600, 4: 51200}\n",
      "{0.02420393280989194: 0, 0.002708360245469004: 1, 0.00394814926011068: 2, 0.001220604360849253: 3, 0.026705936533921948: 4, 0.11972853944638585: 5, 0.0008191515126548877: 6, 0.0005271316964658933: 7, 0.01561427821918218: 8, 0.010779735208250608: 9, 0.0238785053698427: 10, 0.013359458511884503: 11, 0.07574853917899496: 12, 0.002951533907732596: 13, 0.0009647647358091171: 14, 0.015355406009786235: 15, 0.09095262598409129: 16, 0.5705334328871138: 17}\n",
      "[0.024203924449809053, 0.002708355043696703, 0.003948147350381652, 0.0012206042756747646, 0.026705927402440006, 0.11972853264733646, 0.0008191415662563034, 0.0005271217003774098, 0.015614276386078431, 0.010779732451657307, 0.023878503196616135, 0.013359456620804257, 0.0757485318733546, 0.002951532648822401, 0.0009647638622056454, 0.015355399482853492, 0.09095262371773721, 0.5705334253238982]\n",
      "[17, 17, 17, 17, 17, 12, 12, 12, 12, 12]\n",
      "ds_as_fs (all) [0.01535541 0.01535541 0.01535541 0.01535541 0.01535541 0.01535541\n",
      " 0.01535541 0.01535541 0.01535541 0.01535541 0.01535541 0.01535541\n",
      " 0.01535541 0.01535541 0.01535541 0.01535541]\n",
      "ds_as_fs (min) 0.015355406009786235\n",
      "15\n",
      "data_split_to_promoted_category 15\n"
     ]
    },
    {
     "name": "stderr",
     "output_type": "stream",
     "text": [
      "Note: Processing signal for curve order 8...\n"
     ]
    },
    {
     "name": "stdout",
     "output_type": "stream",
     "text": [
      "chr1 [[15, 15, 15, 15, 15, 15, 15, 15, 15, 15, 15, 15, 15, 15, 15, 15]]\n",
      "chr1 [15]\n",
      "ds_as_fs (all) [0.11972854 0.11972854 0.11972854 0.11972854 0.11972854 0.11972854\n",
      " 0.11972854 0.11972854 0.11972854 0.11972854 0.11972854 0.11972854\n",
      " 0.11972854 0.11972854 0.11972854 0.11972854]\n",
      "ds_as_fs (min) 0.11972853944638585\n",
      "5\n",
      "data_split_to_promoted_category 5\n",
      "chr2 [[5, 5, 5, 5, 5, 5, 5, 5, 5, 5, 5, 5, 5, 5, 5, 5]]\n",
      "chr2 [5]\n",
      "ds_as_fs (all) [0.11972854 0.11972854 0.11972854 0.11972854 0.11972854 0.11972854\n",
      " 0.11972854 0.11972854 0.11972854 0.11972854 0.11972854 0.11972854\n",
      " 0.11972854 0.11972854 0.11972854 0.11972854]\n",
      "ds_as_fs (min) 0.11972853944638585\n",
      "5\n",
      "data_split_to_promoted_category 5\n",
      "chr3 [[5, 5, 5, 5, 5, 5, 5, 5, 5, 5, 5, 5, 5, 5, 5, 5]]\n",
      "chr3 [5]\n",
      "ds_as_fs (all) [0.11972854 0.11972854 0.11972854 0.11972854 0.11972854 0.11972854\n",
      " 0.11972854 0.02670594 0.02670594 0.02670594 0.02670594 0.02670594\n",
      " 0.00081915 0.11972854 0.11972854 0.11972854]\n",
      "ds_as_fs (min) 0.0008191515126548877\n",
      "6\n",
      "data_split_to_promoted_category 6\n",
      "chr4 [[5, 5, 5, 5, 5, 5, 5, 4, 4, 4, 4, 4, 6, 5, 5, 5]]\n",
      "chr4 [6]\n",
      "ds_as_fs (all) [0.01535541 0.01535541 0.01535541 0.01535541 0.01535541 0.01535541\n",
      " 0.01535541 0.09095263 0.09095263 0.09095263 0.09095263 0.09095263\n",
      " 0.09095263 0.09095263 0.09095263 0.07574854]\n",
      "ds_as_fs (min) 0.015355406009786235\n",
      "15\n",
      "data_split_to_promoted_category 15\n",
      "chr5 [[15, 15, 15, 15, 15, 15, 15, 16, 16, 16, 16, 16, 16, 16, 16, 12]]\n",
      "chr5 [15]\n",
      "ds_as_fs (all) [0.07574854 0.07574854 0.07574854 0.07574854 0.07574854 0.07574854\n",
      " 0.07574854 0.07574854 0.07574854 0.07574854 0.07574854 0.07574854\n",
      " 0.07574854 0.07574854 0.07574854 0.07574854]\n",
      "ds_as_fs (min) 0.07574853917899496\n",
      "12\n",
      "data_split_to_promoted_category 12\n",
      "chr6 [[12, 12, 12, 12, 12, 12, 12, 12, 12, 12, 12, 12, 12, 12, 12, 12]]\n",
      "chr6 [12]\n",
      "ds_as_fs (all) [0.09095263 0.09095263 0.09095263 0.09095263 0.09095263 0.09095263\n",
      " 0.09095263 0.07574854 0.07574854 0.07574854 0.07574854 0.07574854\n",
      " 0.07574854 0.07574854 0.07574854 0.07574854]\n",
      "ds_as_fs (min) 0.07574853917899496\n",
      "12\n",
      "data_split_to_promoted_category 12\n",
      "chr7 [[16, 16, 16, 16, 16, 16, 16, 12, 12, 12, 12, 12, 12, 12, 12, 12]]\n",
      "chr7 [12]\n",
      "ds_as_fs (all) [0.57053343 0.57053343 0.57053343 0.57053343 0.57053343 0.57053343\n",
      " 0.57053343 0.57053343 0.57053343 0.57053343 0.57053343 0.57053343\n",
      " 0.57053343 0.57053343 0.57053343 0.57053343]\n",
      "ds_as_fs (min) 0.5705334328871138\n",
      "17\n",
      "data_split_to_promoted_category 17\n",
      "chrX [[17, 17, 17, 17, 17, 17, 17, 17, 17, 17, 17, 17, 17, 17, 17, 17]]\n",
      "chrX [17]\n",
      "ds_as_fs (all) [0.07574854 0.07574854 0.07574854 0.07574854 0.07574854 0.07574854\n",
      " 0.07574854 0.07574854 0.07574854 0.07574854 0.07574854 0.07574854\n",
      " 0.07574854 0.07574854 0.07574854 0.07574854]\n",
      "ds_as_fs (min) 0.07574853917899496\n",
      "12\n",
      "data_split_to_promoted_category 12\n",
      "chr8 [[12, 12, 12, 12, 12, 12, 12, 12, 12, 12, 12, 12, 12, 12, 12, 12]]\n",
      "chr8 [12]\n",
      "ds_as_fs (all) [0.57053343 0.57053343 0.57053343 0.57053343 0.57053343 0.57053343\n",
      " 0.57053343 0.57053343 0.57053343 0.57053343 0.57053343 0.57053343\n",
      " 0.57053343 0.57053343 0.57053343 0.57053343]\n",
      "ds_as_fs (min) 0.5705334328871138\n",
      "17\n",
      "data_split_to_promoted_category 17\n",
      "chr9 [[17, 17, 17, 17, 17, 17, 17, 17, 17, 17, 17, 17, 17, 17, 17, 17]]\n",
      "chr9 [17]\n",
      "ds_as_fs (all) [0.09095263 0.09095263 0.09095263 0.09095263 0.09095263 0.09095263\n",
      " 0.09095263 0.09095263 0.09095263 0.09095263 0.09095263 0.09095263\n",
      " 0.09095263 0.09095263 0.09095263 0.09095263]\n",
      "ds_as_fs (min) 0.09095262598409129\n",
      "16\n",
      "data_split_to_promoted_category 16\n",
      "chr11 [[16, 16, 16, 16, 16, 16, 16, 16, 16, 16, 16, 16, 16, 16, 16, 16]]\n",
      "chr11 [16]\n",
      "ds_as_fs (all) [0.02670594 0.02670594 0.02670594 0.02670594 0.02670594 0.02670594\n",
      " 0.02670594 0.02670594 0.02670594 0.02670594 0.02670594 0.02670594\n",
      " 0.02670594 0.02670594 0.02670594 0.11972854]\n",
      "ds_as_fs (min) 0.026705936533921948\n",
      "4\n",
      "data_split_to_promoted_category 4\n",
      "chr10 [[4, 4, 4, 4, 4, 4, 4, 4, 4, 4, 4, 4, 4, 4, 4, 5]]\n",
      "chr10 [4]\n",
      "ds_as_fs (all) [0.11972854 0.11972854 0.11972854 0.02387851 0.02387851 0.02387851\n",
      " 0.02387851 0.02387851 0.11972854 0.11972854 0.11972854 0.11972854\n",
      " 0.11972854 0.11972854 0.11972854 0.11972854]\n",
      "ds_as_fs (min) 0.0238785053698427\n",
      "10\n",
      "data_split_to_promoted_category 10\n",
      "chr12 [[5, 5, 5, 10, 10, 10, 10, 10, 5, 5, 5, 5, 5, 5, 5, 5]]\n",
      "chr12 [10]\n",
      "ds_as_fs (all) [0.57053343 0.57053343 0.57053343 0.57053343 0.57053343 0.57053343\n",
      " 0.57053343 0.57053343 0.57053343 0.57053343 0.57053343 0.57053343\n",
      " 0.57053343 0.57053343 0.57053343 0.57053343]\n",
      "ds_as_fs (min) 0.5705334328871138\n",
      "17\n",
      "data_split_to_promoted_category 17\n",
      "chr13 [[17, 17, 17, 17, 17, 17, 17, 17, 17, 17, 17, 17, 17, 17, 17, 17]]\n",
      "chr13 [17]\n",
      "ds_as_fs (all) [0.57053343 0.57053343 0.57053343 0.57053343 0.57053343 0.57053343\n",
      " 0.57053343 0.57053343 0.57053343 0.57053343 0.57053343 0.57053343\n",
      " 0.57053343 0.57053343 0.57053343 0.57053343]\n",
      "ds_as_fs (min) 0.5705334328871138\n",
      "17\n",
      "data_split_to_promoted_category 17\n",
      "chr14 [[17, 17, 17, 17, 17, 17, 17, 17, 17, 17, 17, 17, 17, 17, 17, 17]]\n",
      "chr14 [17]\n",
      "ds_as_fs (all) [0.57053343 0.57053343 0.57053343 0.57053343 0.57053343 0.57053343\n",
      " 0.57053343 0.57053343 0.57053343 0.57053343 0.57053343 0.57053343\n",
      " 0.57053343 0.57053343 0.57053343 0.57053343]\n",
      "ds_as_fs (min) 0.5705334328871138\n",
      "17\n",
      "data_split_to_promoted_category 17\n",
      "chr15 [[17, 17, 17, 17, 17, 17, 17, 17, 17, 17, 17, 17, 17, 17, 17, 17]]\n",
      "chr15 [17]\n",
      "ds_as_fs (all) [0.00394815 0.02420393 0.02420393 0.02420393 0.00394815 0.00394815\n",
      " 0.00270836 0.00270836 0.00270836 0.00270836 0.00394815 0.00394815\n",
      " 0.00394815 0.00394815 0.02420393 0.01077974]\n",
      "ds_as_fs (min) 0.002708360245469004\n",
      "1\n",
      "data_split_to_promoted_category 1\n",
      "chr16 [[2, 0, 0, 0, 2, 2, 1, 1, 1, 1, 2, 2, 2, 2, 0, 9]]\n",
      "chr16 [1]\n",
      "ds_as_fs (all) [0.07574854 0.07574854 0.07574854 0.07574854 0.07574854 0.07574854\n",
      " 0.07574854 0.07574854 0.07574854 0.07574854 0.07574854 0.07574854\n",
      " 0.07574854 0.07574854 0.09095263 0.09095263]\n",
      "ds_as_fs (min) 0.07574853917899496\n",
      "12\n",
      "data_split_to_promoted_category 12\n",
      "chr17 [[12, 12, 12, 12, 12, 12, 12, 12, 12, 12, 12, 12, 12, 12, 16, 16]]\n",
      "chr17 [12]\n",
      "ds_as_fs (all) [0.57053343 0.57053343 0.57053343 0.57053343 0.57053343 0.57053343\n",
      " 0.57053343 0.57053343 0.57053343 0.07574854 0.07574854 0.07574854\n",
      " 0.01335946 0.01335946 0.01335946 0.01335946]\n",
      "ds_as_fs (min) 0.013359458511884503\n",
      "11\n",
      "data_split_to_promoted_category 11\n",
      "chr18 [[17, 17, 17, 17, 17, 17, 17, 17, 17, 12, 12, 12, 11, 11, 11, 11]]\n",
      "chr18 [11]\n",
      "ds_as_fs (all) [0.11972854 0.11972854 0.11972854 0.11972854 0.11972854 0.11972854\n",
      " 0.11972854 0.11972854 0.11972854 0.11972854 0.02670594 0.02670594\n",
      " 0.02670594 0.02670594 0.02670594 0.02670594]\n",
      "ds_as_fs (min) 0.026705936533921948\n",
      "4\n",
      "data_split_to_promoted_category 4\n",
      "chr20 [[5, 5, 5, 5, 5, 5, 5, 5, 5, 5, 4, 4, 4, 4, 4, 4]]\n",
      "chr20 [4]\n",
      "ds_as_fs (all) [0.11972854 0.11972854 0.11972854 0.11972854 0.11972854 0.11972854\n",
      " 0.11972854 0.11972854 0.11972854 0.11972854 0.11972854 0.11972854\n",
      " 0.11972854 0.11972854 0.11972854 0.11972854]\n",
      "ds_as_fs (min) 0.11972853944638585\n",
      "5\n",
      "data_split_to_promoted_category 5\n",
      "chr19 [[5, 5, 5, 5, 5, 5, 5, 5, 5, 5, 5, 5, 5, 5, 5, 5]]\n",
      "chr19 [5]\n",
      "ds_as_fs (all) [0.57053343 0.57053343 0.57053343 0.57053343 0.57053343 0.57053343\n",
      " 0.57053343 0.57053343 0.57053343 0.57053343 0.57053343 0.57053343\n",
      " 0.57053343 0.57053343 0.57053343 0.57053343]\n",
      "ds_as_fs (min) 0.5705334328871138\n",
      "17\n",
      "data_split_to_promoted_category 17\n",
      "chrY [[17, 17, 17, 17, 17, 17, 17, 17, 17, 17, 17, 17, 17, 17, 17, 17]]\n",
      "chrY [17]\n",
      "ds_as_fs (all) [0.57053343 0.57053343 0.57053343 0.57053343 0.57053343 0.57053343\n",
      " 0.57053343 0.57053343 0.57053343 0.57053343 0.57053343 0.57053343\n",
      " 0.57053343 0.57053343 0.57053343 0.57053343]\n",
      "ds_as_fs (min) 0.5705334328871138\n",
      "17\n",
      "data_split_to_promoted_category 17\n",
      "chr22 [[17, 17, 17, 17, 17, 17, 17, 17, 17, 17, 17, 17, 17, 17, 17, 17]]\n",
      "chr22 [17]\n",
      "ds_as_fs (all) [0.57053343 0.57053343 0.57053343 0.57053343 0.57053343 0.57053343\n",
      " 0.57053343 0.57053343 0.57053343 0.57053343 0.57053343 0.57053343\n",
      " 0.57053343 0.57053343 0.57053343 0.57053343]\n",
      "ds_as_fs (min) 0.5705334328871138\n",
      "17\n",
      "data_split_to_promoted_category 17\n",
      "chr21 [[17, 17, 17, 17, 17, 17, 17, 17, 17, 17, 17, 17, 17, 17, 17, 17]]\n",
      "chr21 [17]\n"
     ]
    },
    {
     "name": "stderr",
     "output_type": "stream",
     "text": [
      "Note: Processing signal for curve order 7...\n",
      "Note: Processing signal for curve order 6...\n",
      "Note: Processing signal for curve order 5...\n",
      "Note: Processing signal for curve order 4...\n"
     ]
    },
    {
     "ename": "SystemExit",
     "evalue": "0",
     "output_type": "error",
     "traceback": [
      "An exception has occurred, use %tb to see the full traceback.\n",
      "\u001b[0;31mSystemExit\u001b[0m\u001b[0;31m:\u001b[0m 0\n"
     ]
    },
    {
     "name": "stderr",
     "output_type": "stream",
     "text": [
      "/Users/areynolds/miniconda3/lib/python3.8/site-packages/IPython/core/interactiveshell.py:3406: UserWarning: To exit: use 'exit', 'quit', or Ctrl-D.\n",
      "  warn(\"To exit: use 'exit', 'quit', or Ctrl-D.\", stacklevel=1)\n"
     ]
    }
   ],
   "source": [
    "hgo = hg.HilbertGenome(assembly=\"hg38\", \n",
    "                       input_signal_fn=signal_local_fn,\n",
    "                       input_signal_categories=signal_categories,\n",
    "                       input_signal_resolution=signal_resolution, \n",
    "                       curve_order_min=4,\n",
    "                       curve_order_max=8,\n",
    "                       output_mcool_fn=mcool_fn)"
   ]
  },
  {
   "cell_type": "code",
   "execution_count": null,
   "id": "7c65503c-4646-48ad-bae3-dbf4114b6df4",
   "metadata": {},
   "outputs": [],
   "source": [
    "hgo.cooler_info_for_curve_order(8)"
   ]
  },
  {
   "cell_type": "code",
   "execution_count": null,
   "id": "63199623-ea41-4941-8656-25b9fc5ab31e",
   "metadata": {},
   "outputs": [],
   "source": [
    "hgo.cooler_plot_for_curve_order(8)"
   ]
  }
 ],
 "metadata": {
  "kernelspec": {
   "display_name": "Python 3 (ipykernel)",
   "language": "python",
   "name": "python3"
  },
  "language_info": {
   "codemirror_mode": {
    "name": "ipython",
    "version": 3
   },
   "file_extension": ".py",
   "mimetype": "text/x-python",
   "name": "python",
   "nbconvert_exporter": "python",
   "pygments_lexer": "ipython3",
   "version": "3.8.13"
  }
 },
 "nbformat": 4,
 "nbformat_minor": 5
}
