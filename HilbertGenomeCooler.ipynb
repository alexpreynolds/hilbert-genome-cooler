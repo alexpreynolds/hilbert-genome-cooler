{
 "cells": [
  {
   "cell_type": "markdown",
   "id": "91c25316-ac5b-46bb-9039-0aa4c2f163bd",
   "metadata": {
    "tags": []
   },
   "source": [
    "# hilbert-genome-cooler"
   ]
  },
  {
   "cell_type": "markdown",
   "id": "bb547299-672b-4e52-929b-aeac0d43dff8",
   "metadata": {},
   "source": [
    "#### Overview\n",
    "\n",
    "We create a Python package called `hilbertgenome` to generate a multiscale `mcool` file of Hilbert curve data. \n",
    "\n",
    "This package in turn uses the Python `numpy-hilbert-curve` (`hilbert`) and `cooler` packages.\n",
    "\n",
    "Each scale of the `mcool` file is derived from **integer-keyed categorical data** (e.g., chromatin states or DHS components) at each Hilbert curve order, and put into its own `cool` file.\n",
    "\n",
    "The set of `cool` files — each at its own \"resolution\" to represent Hilbert curve order — can then be loaded into a final `mcool` file.\n",
    "\n",
    "#### Notes\n",
    "\n",
    "1. This does not yet use the custom Hilbert curve aggregation function defined in the Observable notebook. Instead, we are generating a range of integers as placeholder data. The colormap equivalent of this data, when rendered (see below), uses coloring to demonstrate that the Hilbert curve data are ordered correctly.\n",
    "\n",
    "2. This does not yet look at using HiGlass to render this `mcool` file; customization of the 2D track type will be required for presenting categorical data, similar to what was required for using HiGlass to render chromatin state or DHS component \"tornado\" multivec tracks. "
   ]
  },
  {
   "cell_type": "code",
   "execution_count": 1,
   "id": "14dc74a5-195e-4787-ae5d-2e5b853e616a",
   "metadata": {},
   "outputs": [],
   "source": [
    "# The following directive activates inline plotting\n",
    "%matplotlib inline"
   ]
  },
  {
   "cell_type": "code",
   "execution_count": 2,
   "id": "8dc59145-2bcd-4a57-a64a-b45cf42b4777",
   "metadata": {},
   "outputs": [
    {
     "name": "stdout",
     "output_type": "stream",
     "text": [
      "Requirement already satisfied: h5py in /Users/areynolds/miniconda3/lib/python3.8/site-packages (3.3.0)\n",
      "Requirement already satisfied: numpy>=1.17.5 in /Users/areynolds/miniconda3/lib/python3.8/site-packages (from h5py) (1.22.4)\n",
      "Requirement already satisfied: cooler in /Users/areynolds/miniconda3/lib/python3.8/site-packages (0.8.11)\n",
      "Requirement already satisfied: cytoolz<0.11 in /Users/areynolds/miniconda3/lib/python3.8/site-packages (from cooler) (0.10.1)\n",
      "Requirement already satisfied: pandas in /Users/areynolds/miniconda3/lib/python3.8/site-packages (from cooler) (1.4.3)\n",
      "Requirement already satisfied: scipy>=0.16 in /Users/areynolds/miniconda3/lib/python3.8/site-packages (from cooler) (1.6.2)\n",
      "Requirement already satisfied: pyfaidx in /Users/areynolds/miniconda3/lib/python3.8/site-packages (from cooler) (0.7.1)\n",
      "Requirement already satisfied: numpy>=1.9 in /Users/areynolds/miniconda3/lib/python3.8/site-packages (from cooler) (1.22.4)\n",
      "Requirement already satisfied: pyyaml in /Users/areynolds/miniconda3/lib/python3.8/site-packages (from cooler) (6.0)\n",
      "Requirement already satisfied: pypairix in /Users/areynolds/miniconda3/lib/python3.8/site-packages (from cooler) (0.3.7)\n",
      "Requirement already satisfied: asciitree in /Users/areynolds/miniconda3/lib/python3.8/site-packages (from cooler) (0.3.3)\n",
      "Requirement already satisfied: h5py>=2.5 in /Users/areynolds/miniconda3/lib/python3.8/site-packages (from cooler) (3.3.0)\n",
      "Requirement already satisfied: click>=7 in /Users/areynolds/miniconda3/lib/python3.8/site-packages (from cooler) (8.1.3)\n",
      "Requirement already satisfied: simplejson in /Users/areynolds/miniconda3/lib/python3.8/site-packages (from cooler) (3.18.0)\n",
      "Requirement already satisfied: multiprocess in /Users/areynolds/miniconda3/lib/python3.8/site-packages (from cooler) (0.70.14)\n",
      "Requirement already satisfied: six in /Users/areynolds/miniconda3/lib/python3.8/site-packages (from cooler) (1.16.0)\n",
      "Requirement already satisfied: toolz>=0.8.0 in /Users/areynolds/miniconda3/lib/python3.8/site-packages (from cytoolz<0.11->cooler) (0.12.0)\n",
      "Requirement already satisfied: dill>=0.3.6 in /Users/areynolds/miniconda3/lib/python3.8/site-packages (from multiprocess->cooler) (0.3.6)\n",
      "Requirement already satisfied: python-dateutil>=2.8.1 in /Users/areynolds/miniconda3/lib/python3.8/site-packages (from pandas->cooler) (2.8.2)\n",
      "Requirement already satisfied: pytz>=2020.1 in /Users/areynolds/.local/lib/python3.8/site-packages (from pandas->cooler) (2021.1)\n",
      "Requirement already satisfied: setuptools>=0.7 in /Users/areynolds/miniconda3/lib/python3.8/site-packages (from pyfaidx->cooler) (63.1.0)\n",
      "Requirement already satisfied: matplotlib in /Users/areynolds/miniconda3/lib/python3.8/site-packages (3.4.1)\n",
      "Requirement already satisfied: pyparsing>=2.2.1 in /Users/areynolds/miniconda3/lib/python3.8/site-packages (from matplotlib) (2.4.7)\n",
      "Requirement already satisfied: numpy>=1.16 in /Users/areynolds/miniconda3/lib/python3.8/site-packages (from matplotlib) (1.22.4)\n",
      "Requirement already satisfied: kiwisolver>=1.0.1 in /Users/areynolds/miniconda3/lib/python3.8/site-packages (from matplotlib) (1.3.1)\n",
      "Requirement already satisfied: cycler>=0.10 in /Users/areynolds/miniconda3/lib/python3.8/site-packages (from matplotlib) (0.10.0)\n",
      "Requirement already satisfied: python-dateutil>=2.7 in /Users/areynolds/miniconda3/lib/python3.8/site-packages (from matplotlib) (2.8.2)\n",
      "Requirement already satisfied: pillow>=6.2.0 in /Users/areynolds/miniconda3/lib/python3.8/site-packages (from matplotlib) (8.2.0)\n",
      "Requirement already satisfied: six in /Users/areynolds/miniconda3/lib/python3.8/site-packages (from cycler>=0.10->matplotlib) (1.16.0)\n",
      "Requirement already satisfied: numpy-hilbert-curve in /Users/areynolds/miniconda3/lib/python3.8/site-packages (1.0.1)\n"
     ]
    }
   ],
   "source": [
    "%%bash\n",
    "\n",
    "pip install h5py\n",
    "pip install cooler\n",
    "pip install matplotlib\n",
    "pip install numpy-hilbert-curve"
   ]
  },
  {
   "cell_type": "code",
   "execution_count": 3,
   "id": "5abe5100-1ed1-4eb7-aed4-76928147844f",
   "metadata": {},
   "outputs": [],
   "source": [
    "import io\n",
    "import os\n",
    "import requests\n",
    "import hilbertgenome as hg"
   ]
  },
  {
   "cell_type": "code",
   "execution_count": 4,
   "id": "bc6b4f19-8497-4af8-a4ae-0132225f1986",
   "metadata": {},
   "outputs": [],
   "source": [
    "data_dir = 'hilbert_genome_cooler_data'\n",
    "if not os.path.exists(data_dir): \n",
    "    os.makedirs(data_dir)\n",
    "mcool_fn = os.path.join(data_dir, 'signal.mcool')"
   ]
  },
  {
   "cell_type": "code",
   "execution_count": 5,
   "id": "fc3f0eb6-cbc7-4e7f-a2c5-040ec2070735",
   "metadata": {},
   "outputs": [],
   "source": [
    "signal_remote_URI = 'https://resources.altius.org/~areynolds/public/Boix_et_al_833_sample.hg19.18.All_833_biosamples.S1.scores.txt.gz'\n",
    "signal_local_fn = os.path.join(data_dir, 'Boix_et_al_833_sample.hg19.18.All_833_biosamples.S1.scores.txt.gz')\n",
    "if not os.path.exists(signal_local_fn):\n",
    "    try:\n",
    "        r = requests.get(signal_remote_URI)\n",
    "        with open(signal_local_fn, \"wb\") as ofh:\n",
    "            b = io.BytesIO(r.content)\n",
    "            ofh.write(b.getbuffer())\n",
    "    except requests.exceptions.RequestException as e:\n",
    "        raise SystemExit(e)"
   ]
  },
  {
   "cell_type": "code",
   "execution_count": 6,
   "id": "c73836f6-2487-4566-82ba-4b6d999cda0c",
   "metadata": {},
   "outputs": [
    {
     "name": "stdout",
     "output_type": "stream",
     "text": [
      "15441432\n",
      "12\n",
      "[{8: 3200}, {7: 6400}, {6: 12800}, {5: 25600}]\n",
      "[0.00511964951044389, 0.0027613198899608653, 0.004025357691739187, 0.0012444745278268798, 0.027228191033459918, 0.12206995510590911, 0.0008351607758596841, 0.0005374301419858949, 0.015919630645387796, 0.010990541914544984, 0.024345473453625293, 0.013620715412461001, 0.07722987729545708, 0.0030092530992309853, 0.0009836308751409938, 0.015655691121066496, 0.09273130179162703, 0.5816923457142729]\n",
      "[17, 17, 17, 17, 17, 12, 12, 12, 12, 12]\n"
     ]
    },
    {
     "name": "stderr",
     "output_type": "stream",
     "text": [
      "Note: Processing signal for curve order 8...\n",
      "Note: Processing signal for curve order 7...\n",
      "Note: Processing signal for curve order 6...\n",
      "Note: Processing signal for curve order 5...\n",
      "Note: Processing signal for curve order 4...\n"
     ]
    },
    {
     "ename": "SystemExit",
     "evalue": "0",
     "output_type": "error",
     "traceback": [
      "An exception has occurred, use %tb to see the full traceback.\n",
      "\u001b[0;31mSystemExit\u001b[0m\u001b[0;31m:\u001b[0m 0\n"
     ]
    },
    {
     "name": "stderr",
     "output_type": "stream",
     "text": [
      "/Users/areynolds/miniconda3/lib/python3.8/site-packages/IPython/core/interactiveshell.py:3406: UserWarning: To exit: use 'exit', 'quit', or Ctrl-D.\n",
      "  warn(\"To exit: use 'exit', 'quit', or Ctrl-D.\", stacklevel=1)\n"
     ]
    }
   ],
   "source": [
    "hgo = hg.HilbertGenome(assembly=\"hg38\", \n",
    "                       input_signal_fn=signal_local_fn,\n",
    "                       input_signal_categories=18,\n",
    "                       base_signal_resolution=200, \n",
    "                       curve_order_min=4,\n",
    "                       curve_order_max=8,\n",
    "                       output_mcool_fn=mcool_fn)"
   ]
  },
  {
   "cell_type": "code",
   "execution_count": null,
   "id": "7c65503c-4646-48ad-bae3-dbf4114b6df4",
   "metadata": {},
   "outputs": [],
   "source": [
    "hgo.cooler_info_for_curve_order(8)"
   ]
  },
  {
   "cell_type": "code",
   "execution_count": null,
   "id": "63199623-ea41-4941-8656-25b9fc5ab31e",
   "metadata": {},
   "outputs": [],
   "source": [
    "hgo.cooler_plot_for_curve_order(8)"
   ]
  }
 ],
 "metadata": {
  "kernelspec": {
   "display_name": "Python 3 (ipykernel)",
   "language": "python",
   "name": "python3"
  },
  "language_info": {
   "codemirror_mode": {
    "name": "ipython",
    "version": 3
   },
   "file_extension": ".py",
   "mimetype": "text/x-python",
   "name": "python",
   "nbconvert_exporter": "python",
   "pygments_lexer": "ipython3",
   "version": "3.8.13"
  }
 },
 "nbformat": 4,
 "nbformat_minor": 5
}
